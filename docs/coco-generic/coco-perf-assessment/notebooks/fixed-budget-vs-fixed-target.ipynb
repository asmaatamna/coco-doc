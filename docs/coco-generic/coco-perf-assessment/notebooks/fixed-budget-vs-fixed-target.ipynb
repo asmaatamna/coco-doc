{
 "cells": [
  {
   "cell_type": "code",
   "execution_count": 1,
   "metadata": {
    "collapsed": false
   },
   "outputs": [
    {
     "name": "stdout",
     "output_type": "stream",
     "text": [
      "Using matplotlib backend: Qt4Agg\n"
     ]
    }
   ],
   "source": [
    "%matplotlib"
   ]
  },
  {
   "cell_type": "code",
   "execution_count": 2,
   "metadata": {
    "collapsed": false
   },
   "outputs": [],
   "source": [
    "from __future__ import division\n",
    "from matplotlib.pylab import *"
   ]
  },
  {
   "cell_type": "code",
   "execution_count": 3,
   "metadata": {
    "collapsed": false
   },
   "outputs": [],
   "source": [
    "arange(0, 1, 1/20)\n",
    "\n",
    "def f(facs=ones(100)):\n",
    "    f = np.cumsum(2 * facs * np.random.rand(len(facs)))\n",
    "    n = 10\n",
    "    w = 2 * arange(1, n + 1)\n",
    "    f[-n:] = (w * f[-n] + f[-n:]) / (1 + w)  # flattening out\n",
    "    return f\n",
    "runs = {}\n",
    "runs[0] = -1.1 * f()\n",
    "runs[1] = -2  * f(1 / arange(1, 121)**1)\n",
    "runs[2] = -0.82 * f(ones(95))\n",
    "runs[3] = -1.4 * f(ones(65))\n",
    "runs[4] = -1. * exp(0.15 * hstack([arange(0, 5, 5/25), \n",
    "                                   arange(5, 5+75)])) / 1 * f()\n",
    "bc, budget = 'b', 60\n",
    "tc, target = 'r', -65"
   ]
  },
  {
   "cell_type": "code",
   "execution_count": 5,
   "metadata": {
    "collapsed": false
   },
   "outputs": [],
   "source": [
    "close()\n",
    "rcParams['font.size'] = 16\n",
    "for run in runs.values():\n",
    "    plot(run, 'k')\n",
    "for run in runs.values():\n",
    "    idx = np.where(run <= target)[0]\n",
    "    if budget < len(run):\n",
    "        plot(budget, min(run[:budget+1]), bc + '*', markersize=20)\n",
    "    if len(idx):\n",
    "        plot(idx[0] - 0.5, target, tc + '*', markersize=20)\n",
    "plot([budget, budget], ylim(), bc + '--')\n",
    "plot(xlim(), [target, target], tc + '--')\n",
    "xticks(xticks()[0], [])\n",
    "ylim([-100, 0])\n",
    "yticks(yticks()[0], [])\n",
    "xlim([0.01, 102])\n",
    "text(2, target + 2, 'fixed target', color='red')\n",
    "text(budget - 4, -17, 'fixed budget', color='blue', rotation=90)\n",
    "xlabel('number of function evaluations')\n",
    "ylabel('quality indicator (to be minimized)')\n",
    "grid(True)"
   ]
  },
  {
   "cell_type": "code",
   "execution_count": 6,
   "metadata": {
    "collapsed": false
   },
   "outputs": [],
   "source": [
    "for filetype in ['pdf', 'png', 'svg', 'eps']:\n",
    "    savefig('fixed-budget-vs-fixed-target.' + filetype, bbox_inches='tight')"
   ]
  },
  {
   "cell_type": "code",
   "execution_count": null,
   "metadata": {
    "collapsed": true
   },
   "outputs": [],
   "source": []
  }
 ],
 "metadata": {
  "kernelspec": {
   "display_name": "Python 2",
   "language": "python",
   "name": "python2"
  },
  "language_info": {
   "codemirror_mode": {
    "name": "ipython",
    "version": 2
   },
   "file_extension": ".py",
   "mimetype": "text/x-python",
   "name": "python",
   "nbconvert_exporter": "python",
   "pygments_lexer": "ipython2",
   "version": "2.7.11"
  }
 },
 "nbformat": 4,
 "nbformat_minor": 0
}
